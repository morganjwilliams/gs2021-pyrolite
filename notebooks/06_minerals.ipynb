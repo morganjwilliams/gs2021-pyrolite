{
 "cells": [
  {
   "cell_type": "markdown",
   "metadata": {},
   "source": [
    "| [**Overview**](./00_overview.ipynb) | [Getting Started](./01_jupyter_python.ipynb) | **Examples:** | [Access](./02_accessing_indexing.ipynb) | [Transform](./03_transform.ipynb) | [Plotting](./04_simple_vis.ipynb) | [Norm-Spiders](./05_norm_spiders.ipynb) | [Minerals](./06_minerals.ipynb) | [lambdas](./07_lambdas.ipynb) |\n",
    "| ----------------------------------- | -------------------------------------------- | ------------- | --------------------------------------- | --------------------------------- | --------------------------------- | --------------------------------------- | ------------------------------- | ----------------------------- |\n",
    "\n",
    "# Working with Mineral Composition Data\n",
    "\n",
    "### Mineral Database\n",
    "pyrolite includes a limited mineral database which is useful for looking up endmember compositions."
   ]
  },
  {
   "cell_type": "code",
   "execution_count": 1,
   "metadata": {
    "collapsed": false,
    "jupyter": {
     "outputs_hidden": false
    }
   },
   "outputs": [],
   "source": [
    "import pandas as pd\n",
    "import matplotlib.pyplot as plt\n",
    "from pyrolite.mineral.mindb import (\n",
    "    list_groups,\n",
    "    list_minerals,\n",
    "    list_formulae,\n",
    "    get_mineral,\n",
    "    get_mineral_group,\n",
    ")\n",
    "\n",
    "pd.set_option(\"precision\", 3)  # smaller outputs"
   ]
  },
  {
   "cell_type": "markdown",
   "metadata": {},
   "source": [
    "From the database, you can get the list of its contents using a few utility\n",
    "functions:\n",
    "\n"
   ]
  },
  {
   "cell_type": "code",
   "execution_count": 2,
   "metadata": {
    "collapsed": false,
    "jupyter": {
     "outputs_hidden": false
    }
   },
   "outputs": [
    {
     "data": {
      "text/plain": [
       "['amphibole',\n",
       " 'olivine',\n",
       " 'pyroxene',\n",
       " 'feldspar',\n",
       " 'mica',\n",
       " 'garnet',\n",
       " 'epidote',\n",
       " 'spinel']"
      ]
     },
     "execution_count": 2,
     "metadata": {},
     "output_type": "execute_result"
    }
   ],
   "source": [
    "list_groups()"
   ]
  },
  {
   "cell_type": "code",
   "execution_count": 3,
   "metadata": {
    "collapsed": false,
    "jupyter": {
     "outputs_hidden": false
    }
   },
   "outputs": [
    {
     "data": {
      "text/plain": [
       "'manganiceladonite, ferrohornblende, phengite, hedenbergite, magnesioarfvedsonite, siderophyllite, ferrorichterite, ferrotschermakite, chromoceladonite, morimotoite, allanite, spinel, piemontite, margarite, tschermakite, anorthite, majorite, aluminoceladonite, ferrokaersutite, magnesiochromite, johannsenite, albite, eckermanite, ferroedenite, pyrope, uvarovite, eastonite, winchite, anthopyllite, kosmochlor, tremolite, aegirine, ferroceladonite, liebenbergite, magnesiohastingsite, glaucophane, polylithionite, muscovite, edenite, chromite, ferropargasite, epidote, ferrokatophorite, spodumene, ferroeckermanite, ferroaluminoceladonite, pargasite, tephroite, spessartine, ferrosilite, phlogopite, arvedsonite, richterite, enstatite, namansilite, grossular, barroisite, magnetite, katophorite, andradite, kaersutite, taramite, hercynite, jadeite, magnesiohornblende, magnesioferrite, magnesioreibeckite, esseneite, almandine, hastingsite, fayalite, chromphyllite, riebeckite, clintonite, celadonite, annite, diopside, forsterite, trilithionite, microcline, clinozoisite, gedrite, paragonite'"
      ]
     },
     "execution_count": 3,
     "metadata": {},
     "output_type": "execute_result"
    }
   ],
   "source": [
    "', '.join(list_minerals()) # string the list of minerals together so we can print it succinctly"
   ]
  },
  {
   "cell_type": "code",
   "execution_count": 4,
   "metadata": {
    "collapsed": false,
    "jupyter": {
     "outputs_hidden": false
    }
   },
   "outputs": [
    {
     "data": {
      "text/plain": [
       "'(Ca2)(Fe4Al)(Si7Al)O22(OH)2, K2(Mn{3+}2Mg2)(Si8)O20(OH)4, (Ca2)(Mg4Al)(Si7Al)O22(OH)2, MgFe{3+}2O4, (Ca2)(Fe3Al2)(Si6Al2)O22(OH)2, MgCr{3+}2O4, K2(Mg4)(Si4Al6)O20(OH)4, Na(Na2)(Mg4Fe{3+})(Si8)O22(OH)2, K2(Fe{2+}6)(Si6Al2)O20(OH)4, (Ca2)(Mg5)(Si8)O22(OH)2, NaMn{3+}Si2O6, Ca3Cr2(SiO4)3, CaAlFe{3+}SiO6, Na(NaCa)(Mg5)(Si8)O22(OH)2, Na(NaCa)(Fe4Al)(Si7Al)O22(OH)2, K2(Fe{2+}4)(Si4Al6)O20(OH)4, K2(Mg6)(Si6Al2)O20(OH)4, Ca3(TiFe{2+})(SiO4)3, Na(Na2)(Fe{2+}4Fe{3+})(Si8)O22(OH)2, Na(Ca2)(Mg5)(Si7Al)O22(OH)2, (NaCa)(Mg3Al2)(Si7Al)O22(OH)2, (Na2)(Mg3Fe{3+}2)(Si8)O22(OH)2, Na(Na2)(Mg4Al)(Si8)O22(OH)2, Na(Ca2)(Fe4Ti)(Si6Al2)O22(OH)2, Na(NaCa)(Mg3Al2)(Si6Al2)O22(OH)2, K2(Mg2Al2)(Si8)O20(OH)4, (Na2)(Fe3Fe{3+}2)(Si8)O22(OH)2, Fe{2+}Al2O4, Mn2SiO4, Na2(Al4)(Si6Al2)O20(OH)4, K2(Mg2Cr{3+}2)(Si8)O20(OH)4, Fe{2+}Cr{3+}2O4, CaMgSi2O6, Mg3Al2(SiO4)3, (Ca2)(Mg3Al2)(Si6Al2)O22(OH)2, Fe2SiO4, Mg2SiO4, Ca2Al2Mn{3+}(Si2O7)(SiO4)O(OH), K2(Fe{3+}2Fe{2+}2)(Si8)O20(OH)4, NaAlSi3O8, K2(Fe{3+}2Mg2)(Si8)O20(OH)4, CaAl2Si2O8, Fe{2+}3Al2(SiO4)3, K2(Al2Li2)(Si8)O20(OH)4, Na(Ca2)(Fe5)(Si7Al)O22(OH)2, Ca3Al2(SiO4)3, CaCe{3+}Al2Fe{2+}(Si2O7)(SiO4)O(OH), CaMnSi2O6, Mn3Al2(SiO4)3, NaAlSi2O6, (NaCa)(Mg4Al)(Si8)O22(OH)2, CaFeSi2O6, K2(Al3Mg)(Si7Al)O20(OH)4, Fe2Si2O6, Na(Ca2)(Fe4Al)(Si6Al2)O22(OH)2, NaFe{3+}Si2O6, Ca2(Mg4Al2)(Si2Al6)O20(OH)4, (Mg2)(Mg5)(Si8)O22(OH)2, Na(Na2)(Fe4Al)(Si8)O22(OH)2, K2(Fe{2+}2Al2)(Si8)O20(OH)4, Fe{2+}Fe{3+}2O4, K2(Al4)(Si6Al2)O20(OH)4, Mg3(MgSi)(SiO4)3, (Mg2)(Mg3Al2)(Si6Al2)O22(OH)2, Na(Ca2)(Mg4Ti)(Si6Al2)O22(OH)2, K2(Cr{3+}4)(Si6Al2)O20(OH)4, MgAl2O4, Ca2Al2Fe{3+}(Si2O7)(SiO4)O(OH), NaCrSi2O6, Ni1.5Mg0.5SiO4, Na(Ca2)(Mg4Al)(Si6Al2)O22(OH)2, Ca2(Al4)(Si4Al4)O20(OH)4, Ca2Al3(Si2O7)(SiO4)O(OH), Na(NaCa)(Mg4Al)(Si7Al)O22(OH)2, LiAlSi2O6, Mg2Si2O6, K2(Al3Li3)(Si6Al2)O20(OH)4, Na(NaCa)(Fe5)(Si8)O22(OH)2, Na(Ca2)(Fe{2+}4Fe{3+})(Si6Al2)O22(OH)2, (Na2)(Mg3Al2)(Si8)O22(OH)2, Ca3Fe{3+}2(SiO4)3, Na(Ca2)(Mg4Fe{3+})(Si6Al2)O22(OH)2, KAlSi3O8'"
      ]
     },
     "execution_count": 4,
     "metadata": {},
     "output_type": "execute_result"
    }
   ],
   "source": [
    "', '.join(list_formulae()) # string the list of minerals formulae so we can print it succinctly"
   ]
  },
  {
   "cell_type": "markdown",
   "metadata": {},
   "source": [
    "You can also directly get the composition of specific minerals by name. These will be a `pd.Series` of elemental Wt% data (although derived from the formuale directly), and normalised to 100%:"
   ]
  },
  {
   "cell_type": "code",
   "execution_count": 5,
   "metadata": {
    "collapsed": false,
    "jupyter": {
     "outputs_hidden": false
    }
   },
   "outputs": [
    {
     "data": {
      "text/plain": [
       "name       forsterite\n",
       "group         olivine\n",
       "formula       Mg2SiO4\n",
       "Mg              0.346\n",
       "Si              0.200\n",
       "O               0.455\n",
       "Fe              0.000\n",
       "Mn              0.000\n",
       "Ni              0.000\n",
       "Ca              0.000\n",
       "Al              0.000\n",
       "Fe{3+}          0.000\n",
       "Na              0.000\n",
       "Mn{3+}          0.000\n",
       "Cr              0.000\n",
       "Li              0.000\n",
       "Cr{3+}          0.000\n",
       "Fe{2+}          0.000\n",
       "K               0.000\n",
       "H               0.000\n",
       "Ti              0.000\n",
       "Ce{3+}          0.000\n",
       "dtype: object"
      ]
     },
     "execution_count": 5,
     "metadata": {},
     "output_type": "execute_result"
    }
   ],
   "source": [
    "get_mineral(\"forsterite\")"
   ]
  },
  {
   "cell_type": "markdown",
   "metadata": {},
   "source": [
    "If you want to get compositions for all minerals within a specific group, you can\n",
    "use `get_mineral_group`:\n",
    "\n"
   ]
  },
  {
   "cell_type": "code",
   "execution_count": 6,
   "metadata": {
    "collapsed": false,
    "jupyter": {
     "outputs_hidden": false
    }
   },
   "outputs": [
    {
     "data": {
      "text/html": [
       "<div>\n",
       "<style scoped>\n",
       "    .dataframe tbody tr th:only-of-type {\n",
       "        vertical-align: middle;\n",
       "    }\n",
       "\n",
       "    .dataframe tbody tr th {\n",
       "        vertical-align: top;\n",
       "    }\n",
       "\n",
       "    .dataframe thead th {\n",
       "        text-align: right;\n",
       "    }\n",
       "</style>\n",
       "<table border=\"1\" class=\"dataframe\">\n",
       "  <thead>\n",
       "    <tr style=\"text-align: right;\">\n",
       "      <th></th>\n",
       "      <th>name</th>\n",
       "      <th>formula</th>\n",
       "      <th>Mg</th>\n",
       "      <th>Si</th>\n",
       "      <th>O</th>\n",
       "      <th>Fe</th>\n",
       "      <th>Mn</th>\n",
       "      <th>Ni</th>\n",
       "    </tr>\n",
       "  </thead>\n",
       "  <tbody>\n",
       "    <tr>\n",
       "      <th>0</th>\n",
       "      <td>forsterite</td>\n",
       "      <td>Mg2SiO4</td>\n",
       "      <td>0.346</td>\n",
       "      <td>0.200</td>\n",
       "      <td>0.455</td>\n",
       "      <td>0.000</td>\n",
       "      <td>0.000</td>\n",
       "      <td>0.000</td>\n",
       "    </tr>\n",
       "    <tr>\n",
       "      <th>1</th>\n",
       "      <td>fayalite</td>\n",
       "      <td>Fe2SiO4</td>\n",
       "      <td>0.000</td>\n",
       "      <td>0.138</td>\n",
       "      <td>0.314</td>\n",
       "      <td>0.548</td>\n",
       "      <td>0.000</td>\n",
       "      <td>0.000</td>\n",
       "    </tr>\n",
       "    <tr>\n",
       "      <th>2</th>\n",
       "      <td>tephroite</td>\n",
       "      <td>Mn2SiO4</td>\n",
       "      <td>0.000</td>\n",
       "      <td>0.139</td>\n",
       "      <td>0.317</td>\n",
       "      <td>0.000</td>\n",
       "      <td>0.544</td>\n",
       "      <td>0.000</td>\n",
       "    </tr>\n",
       "    <tr>\n",
       "      <th>3</th>\n",
       "      <td>liebenbergite</td>\n",
       "      <td>Ni1.5Mg0.5SiO4</td>\n",
       "      <td>0.063</td>\n",
       "      <td>0.146</td>\n",
       "      <td>0.333</td>\n",
       "      <td>0.000</td>\n",
       "      <td>0.000</td>\n",
       "      <td>0.458</td>\n",
       "    </tr>\n",
       "  </tbody>\n",
       "</table>\n",
       "</div>"
      ],
      "text/plain": [
       "            name         formula     Mg     Si      O     Fe     Mn     Ni\n",
       "0     forsterite         Mg2SiO4  0.346  0.200  0.455  0.000  0.000  0.000\n",
       "1       fayalite         Fe2SiO4  0.000  0.138  0.314  0.548  0.000  0.000\n",
       "2      tephroite         Mn2SiO4  0.000  0.139  0.317  0.000  0.544  0.000\n",
       "3  liebenbergite  Ni1.5Mg0.5SiO4  0.063  0.146  0.333  0.000  0.000  0.458"
      ]
     },
     "execution_count": 6,
     "metadata": {},
     "output_type": "execute_result"
    }
   ],
   "source": [
    "get_mineral_group(\"olivine\")"
   ]
  },
  {
   "cell_type": "markdown",
   "metadata": {},
   "source": [
    "In some cases, these might give some useful reference points for comparing your mineral or whole-rock data to:"
   ]
  },
  {
   "cell_type": "code",
   "execution_count": 7,
   "metadata": {},
   "outputs": [
    {
     "data": {
      "image/png": "[encoded data removed]",
      "text/plain": [
       "<Figure size 432x288 with 1 Axes>"
      ]
     },
     "metadata": {
      "needs_background": "light"
     },
     "output_type": "display_data"
    }
   ],
   "source": [
    "px_comps = get_mineral_group('pyroxene').pyrochem.convert_chemistry(to=[\"MgO\", \"SiO2\", \"CaO\", \"FeO\", \"MnO\", \"Al2O3\", \"Na2O\"])\n",
    "px_comps.iloc[:, 2:] = px_comps.iloc[:, 2:].fillna(0) * 100 # pyroxene compositions as Wt% oxides\n",
    "ax = px_comps[['CaO', 'MgO']].pyroplot.scatter(c='k', s=10)"
   ]
  },
  {
   "cell_type": "markdown",
   "metadata": {},
   "source": [
    "If you wanted to, you could also label these (noting there's some overlap to later deal with..):"
   ]
  },
  {
   "cell_type": "code",
   "execution_count": 8,
   "metadata": {},
   "outputs": [
    {
     "data": {
      "image/png": "[encoded data removed]",
      "text/plain": [
       "<Figure size 432x288 with 1 Axes>"
      ]
     },
     "metadata": {
      "needs_background": "light"
     },
     "output_type": "display_data"
    }
   ],
   "source": [
    "ax = px_comps[['CaO', 'MgO']].pyroplot.scatter(c='k', s=10)\n",
    "for ix, row in px_comps.iterrows():\n",
    "    ax.annotate(row['name'], xy=(row[['CaO', 'MgO']]), xytext=(5, 5), textcoords='offset points')"
   ]
  },
  {
   "cell_type": "code",
   "execution_count": 9,
   "metadata": {},
   "outputs": [
    {
     "data": {
      "text/html": [
       "<div>\n",
       "<style scoped>\n",
       "    .dataframe tbody tr th:only-of-type {\n",
       "        vertical-align: middle;\n",
       "    }\n",
       "\n",
       "    .dataframe tbody tr th {\n",
       "        vertical-align: top;\n",
       "    }\n",
       "\n",
       "    .dataframe thead th {\n",
       "        text-align: right;\n",
       "    }\n",
       "</style>\n",
       "<table border=\"1\" class=\"dataframe\">\n",
       "  <thead>\n",
       "    <tr style=\"text-align: right;\">\n",
       "      <th></th>\n",
       "      <th>name</th>\n",
       "      <th>formula</th>\n",
       "      <th>Mg</th>\n",
       "      <th>Si</th>\n",
       "      <th>O</th>\n",
       "      <th>Fe</th>\n",
       "      <th>Mn</th>\n",
       "      <th>Ca</th>\n",
       "      <th>Al</th>\n",
       "      <th>Fe{3+}</th>\n",
       "      <th>Na</th>\n",
       "      <th>Mn{3+}</th>\n",
       "      <th>Cr</th>\n",
       "      <th>Li</th>\n",
       "    </tr>\n",
       "  </thead>\n",
       "  <tbody>\n",
       "    <tr>\n",
       "      <th>0</th>\n",
       "      <td>enstatite</td>\n",
       "      <td>Mg2Si2O6</td>\n",
       "      <td>0.242</td>\n",
       "      <td>0.280</td>\n",
       "      <td>0.478</td>\n",
       "      <td>0.000</td>\n",
       "      <td>0.000</td>\n",
       "      <td>0.000</td>\n",
       "      <td>0.000</td>\n",
       "      <td>0.000</td>\n",
       "      <td>0.000</td>\n",
       "      <td>0.000</td>\n",
       "      <td>0.000</td>\n",
       "      <td>0.000</td>\n",
       "    </tr>\n",
       "    <tr>\n",
       "      <th>1</th>\n",
       "      <td>ferrosilite</td>\n",
       "      <td>Fe2Si2O6</td>\n",
       "      <td>0.000</td>\n",
       "      <td>0.213</td>\n",
       "      <td>0.364</td>\n",
       "      <td>0.423</td>\n",
       "      <td>0.000</td>\n",
       "      <td>0.000</td>\n",
       "      <td>0.000</td>\n",
       "      <td>0.000</td>\n",
       "      <td>0.000</td>\n",
       "      <td>0.000</td>\n",
       "      <td>0.000</td>\n",
       "      <td>0.000</td>\n",
       "    </tr>\n",
       "    <tr>\n",
       "      <th>2</th>\n",
       "      <td>diopside</td>\n",
       "      <td>CaMgSi2O6</td>\n",
       "      <td>0.112</td>\n",
       "      <td>0.259</td>\n",
       "      <td>0.443</td>\n",
       "      <td>0.000</td>\n",
       "      <td>0.000</td>\n",
       "      <td>0.185</td>\n",
       "      <td>0.000</td>\n",
       "      <td>0.000</td>\n",
       "      <td>0.000</td>\n",
       "      <td>0.000</td>\n",
       "      <td>0.000</td>\n",
       "      <td>0.000</td>\n",
       "    </tr>\n",
       "    <tr>\n",
       "      <th>3</th>\n",
       "      <td>hedenbergite</td>\n",
       "      <td>CaFeSi2O6</td>\n",
       "      <td>0.000</td>\n",
       "      <td>0.226</td>\n",
       "      <td>0.387</td>\n",
       "      <td>0.225</td>\n",
       "      <td>0.000</td>\n",
       "      <td>0.162</td>\n",
       "      <td>0.000</td>\n",
       "      <td>0.000</td>\n",
       "      <td>0.000</td>\n",
       "      <td>0.000</td>\n",
       "      <td>0.000</td>\n",
       "      <td>0.000</td>\n",
       "    </tr>\n",
       "    <tr>\n",
       "      <th>4</th>\n",
       "      <td>johannsenite</td>\n",
       "      <td>CaMnSi2O6</td>\n",
       "      <td>0.000</td>\n",
       "      <td>0.227</td>\n",
       "      <td>0.388</td>\n",
       "      <td>0.000</td>\n",
       "      <td>0.222</td>\n",
       "      <td>0.162</td>\n",
       "      <td>0.000</td>\n",
       "      <td>0.000</td>\n",
       "      <td>0.000</td>\n",
       "      <td>0.000</td>\n",
       "      <td>0.000</td>\n",
       "      <td>0.000</td>\n",
       "    </tr>\n",
       "    <tr>\n",
       "      <th>5</th>\n",
       "      <td>esseneite</td>\n",
       "      <td>CaAlFe{3+}SiO6</td>\n",
       "      <td>0.000</td>\n",
       "      <td>0.114</td>\n",
       "      <td>0.389</td>\n",
       "      <td>0.000</td>\n",
       "      <td>0.000</td>\n",
       "      <td>0.162</td>\n",
       "      <td>0.109</td>\n",
       "      <td>0.226</td>\n",
       "      <td>0.000</td>\n",
       "      <td>0.000</td>\n",
       "      <td>0.000</td>\n",
       "      <td>0.000</td>\n",
       "    </tr>\n",
       "    <tr>\n",
       "      <th>6</th>\n",
       "      <td>jadeite</td>\n",
       "      <td>NaAlSi2O6</td>\n",
       "      <td>0.000</td>\n",
       "      <td>0.278</td>\n",
       "      <td>0.475</td>\n",
       "      <td>0.000</td>\n",
       "      <td>0.000</td>\n",
       "      <td>0.000</td>\n",
       "      <td>0.133</td>\n",
       "      <td>0.000</td>\n",
       "      <td>0.114</td>\n",
       "      <td>0.000</td>\n",
       "      <td>0.000</td>\n",
       "      <td>0.000</td>\n",
       "    </tr>\n",
       "    <tr>\n",
       "      <th>7</th>\n",
       "      <td>aegirine</td>\n",
       "      <td>NaFe{3+}Si2O6</td>\n",
       "      <td>0.000</td>\n",
       "      <td>0.243</td>\n",
       "      <td>0.416</td>\n",
       "      <td>0.000</td>\n",
       "      <td>0.000</td>\n",
       "      <td>0.000</td>\n",
       "      <td>0.000</td>\n",
       "      <td>0.242</td>\n",
       "      <td>0.100</td>\n",
       "      <td>0.000</td>\n",
       "      <td>0.000</td>\n",
       "      <td>0.000</td>\n",
       "    </tr>\n",
       "    <tr>\n",
       "      <th>8</th>\n",
       "      <td>namansilite</td>\n",
       "      <td>NaMn{3+}Si2O6</td>\n",
       "      <td>0.000</td>\n",
       "      <td>0.244</td>\n",
       "      <td>0.417</td>\n",
       "      <td>0.000</td>\n",
       "      <td>0.000</td>\n",
       "      <td>0.000</td>\n",
       "      <td>0.000</td>\n",
       "      <td>0.000</td>\n",
       "      <td>0.100</td>\n",
       "      <td>0.239</td>\n",
       "      <td>0.000</td>\n",
       "      <td>0.000</td>\n",
       "    </tr>\n",
       "    <tr>\n",
       "      <th>9</th>\n",
       "      <td>kosmochlor</td>\n",
       "      <td>NaCrSi2O6</td>\n",
       "      <td>0.000</td>\n",
       "      <td>0.247</td>\n",
       "      <td>0.423</td>\n",
       "      <td>0.000</td>\n",
       "      <td>0.000</td>\n",
       "      <td>0.000</td>\n",
       "      <td>0.000</td>\n",
       "      <td>0.000</td>\n",
       "      <td>0.101</td>\n",
       "      <td>0.000</td>\n",
       "      <td>0.229</td>\n",
       "      <td>0.000</td>\n",
       "    </tr>\n",
       "    <tr>\n",
       "      <th>10</th>\n",
       "      <td>spodumene</td>\n",
       "      <td>LiAlSi2O6</td>\n",
       "      <td>0.000</td>\n",
       "      <td>0.302</td>\n",
       "      <td>0.516</td>\n",
       "      <td>0.000</td>\n",
       "      <td>0.000</td>\n",
       "      <td>0.000</td>\n",
       "      <td>0.145</td>\n",
       "      <td>0.000</td>\n",
       "      <td>0.000</td>\n",
       "      <td>0.000</td>\n",
       "      <td>0.000</td>\n",
       "      <td>0.037</td>\n",
       "    </tr>\n",
       "  </tbody>\n",
       "</table>\n",
       "</div>"
      ],
      "text/plain": [
       "            name         formula     Mg     Si      O     Fe     Mn     Ca  \\\n",
       "0      enstatite        Mg2Si2O6  0.242  0.280  0.478  0.000  0.000  0.000   \n",
       "1    ferrosilite        Fe2Si2O6  0.000  0.213  0.364  0.423  0.000  0.000   \n",
       "2       diopside       CaMgSi2O6  0.112  0.259  0.443  0.000  0.000  0.185   \n",
       "3   hedenbergite       CaFeSi2O6  0.000  0.226  0.387  0.225  0.000  0.162   \n",
       "4   johannsenite       CaMnSi2O6  0.000  0.227  0.388  0.000  0.222  0.162   \n",
       "5      esseneite  CaAlFe{3+}SiO6  0.000  0.114  0.389  0.000  0.000  0.162   \n",
       "6        jadeite       NaAlSi2O6  0.000  0.278  0.475  0.000  0.000  0.000   \n",
       "7       aegirine   NaFe{3+}Si2O6  0.000  0.243  0.416  0.000  0.000  0.000   \n",
       "8    namansilite   NaMn{3+}Si2O6  0.000  0.244  0.417  0.000  0.000  0.000   \n",
       "9     kosmochlor       NaCrSi2O6  0.000  0.247  0.423  0.000  0.000  0.000   \n",
       "10     spodumene       LiAlSi2O6  0.000  0.302  0.516  0.000  0.000  0.000   \n",
       "\n",
       "       Al  Fe{3+}     Na  Mn{3+}     Cr     Li  \n",
       "0   0.000   0.000  0.000   0.000  0.000  0.000  \n",
       "1   0.000   0.000  0.000   0.000  0.000  0.000  \n",
       "2   0.000   0.000  0.000   0.000  0.000  0.000  \n",
       "3   0.000   0.000  0.000   0.000  0.000  0.000  \n",
       "4   0.000   0.000  0.000   0.000  0.000  0.000  \n",
       "5   0.109   0.226  0.000   0.000  0.000  0.000  \n",
       "6   0.133   0.000  0.114   0.000  0.000  0.000  \n",
       "7   0.000   0.242  0.100   0.000  0.000  0.000  \n",
       "8   0.000   0.000  0.100   0.239  0.000  0.000  \n",
       "9   0.000   0.000  0.101   0.000  0.229  0.000  \n",
       "10  0.145   0.000  0.000   0.000  0.000  0.037  "
      ]
     },
     "execution_count": 9,
     "metadata": {},
     "output_type": "execute_result"
    }
   ],
   "source": [
    "get_mineral_group('pyroxene')"
   ]
  },
  {
   "cell_type": "code",
   "execution_count": null,
   "metadata": {},
   "outputs": [],
   "source": []
  },
  {
   "cell_type": "code",
   "execution_count": 10,
   "metadata": {},
   "outputs": [
    {
     "name": "stderr",
     "output_type": "stream",
     "text": [
      "C:\\Users\\WIL9DH\\AppData\\Local\\Continuum\\anaconda3\\envs\\pyrolite\\lib\\site-packages\\mpltern\\ternary\\transforms.py:207: RuntimeWarning: invalid value encountered in true_divide\n",
      "  points /= np.sum(points, axis=1)[:, np.newaxis]\n"
     ]
    },
    {
     "data": {
      "text/plain": [
       "<TernaryAxesSubplot:>"
      ]
     },
     "execution_count": 10,
     "metadata": {},
     "output_type": "execute_result"
    },
    {
     "data": {
      "image/png": "[encoded data removed]",
      "text/plain": [
       "<Figure size 432x288 with 1 Axes>"
      ]
     },
     "metadata": {
      "needs_background": "light"
     },
     "output_type": "display_data"
    }
   ],
   "source": [
    "px_comps[['CaO', 'MgO', 'Al2O3']].pyroplot.scatter(c='k', marker='o', s=100, zorder=10)"
   ]
  },
  {
   "cell_type": "markdown",
   "metadata": {},
   "source": [
    "### Mineral Endmember Decomposition\n",
    "\n",
    "A common task when working with mineral chemistry data is to take measured compositions\n",
    "and decompose these into relative proportions of mineral endmember compositions.\n",
    "pyrolite includes some utilities to achieve this and a limited mineral database\n",
    "for looking up endmember compositions."
   ]
  },
  {
   "cell_type": "code",
   "execution_count": 11,
   "metadata": {
    "collapsed": false,
    "jupyter": {
     "outputs_hidden": false
    }
   },
   "outputs": [],
   "source": [
    "import pandas as pd\n",
    "import numpy as np\n",
    "from pyrolite.mineral.mindb import get_mineral\n",
    "from pyrolite.mineral.normative import endmember_decompose"
   ]
  },
  {
   "cell_type": "markdown",
   "metadata": {},
   "source": [
    "First we'll start with a composition of an unknown olivine:\n",
    "\n",
    "\n"
   ]
  },
  {
   "cell_type": "code",
   "execution_count": 12,
   "metadata": {
    "collapsed": false,
    "jupyter": {
     "outputs_hidden": false
    }
   },
   "outputs": [],
   "source": [
    "comp = pd.Series({\"MgO\": 42.06, \"SiO2\": 39.19, \"FeO\": 18.75})\n",
    "df = pd.DataFrame([comp, comp]) # a dataframe with this composition twice, to illustrate what you might do with a table of olivine compositions"
   ]
  },
  {
   "cell_type": "markdown",
   "metadata": {},
   "source": [
    "We can break this down into olivine endmebmers using the\n",
    "`endmember_decompose` function:"
   ]
  },
  {
   "cell_type": "code",
   "execution_count": 13,
   "metadata": {
    "collapsed": false,
    "jupyter": {
     "outputs_hidden": false
    }
   },
   "outputs": [
    {
     "data": {
      "text/html": [
       "<div>\n",
       "<style scoped>\n",
       "    .dataframe tbody tr th:only-of-type {\n",
       "        vertical-align: middle;\n",
       "    }\n",
       "\n",
       "    .dataframe tbody tr th {\n",
       "        vertical-align: top;\n",
       "    }\n",
       "\n",
       "    .dataframe thead th {\n",
       "        text-align: right;\n",
       "    }\n",
       "</style>\n",
       "<table border=\"1\" class=\"dataframe\">\n",
       "  <thead>\n",
       "    <tr style=\"text-align: right;\">\n",
       "      <th>name</th>\n",
       "      <th>forsterite</th>\n",
       "      <th>fayalite</th>\n",
       "    </tr>\n",
       "  </thead>\n",
       "  <tbody>\n",
       "    <tr>\n",
       "      <th>0</th>\n",
       "      <td>79.995</td>\n",
       "      <td>20.005</td>\n",
       "    </tr>\n",
       "    <tr>\n",
       "      <th>1</th>\n",
       "      <td>79.995</td>\n",
       "      <td>20.005</td>\n",
       "    </tr>\n",
       "  </tbody>\n",
       "</table>\n",
       "</div>"
      ],
      "text/plain": [
       "name  forsterite  fayalite\n",
       "0         79.995    20.005\n",
       "1         79.995    20.005"
      ]
     },
     "execution_count": 13,
     "metadata": {},
     "output_type": "execute_result"
    }
   ],
   "source": [
    "ed = endmember_decompose(df, endmembers=\"olivine\", ord=1, molecular=True)\n",
    "ed"
   ]
  },
  {
   "cell_type": "markdown",
   "metadata": {},
   "source": [
    "Equally, if you knew the likely endmembers beforehand, you could specify a list of\n",
    "endmembers:\n",
    "\n",
    "\n"
   ]
  },
  {
   "cell_type": "code",
   "execution_count": 14,
   "metadata": {
    "collapsed": false,
    "jupyter": {
     "outputs_hidden": false
    }
   },
   "outputs": [
    {
     "data": {
      "text/html": [
       "<div>\n",
       "<style scoped>\n",
       "    .dataframe tbody tr th:only-of-type {\n",
       "        vertical-align: middle;\n",
       "    }\n",
       "\n",
       "    .dataframe tbody tr th {\n",
       "        vertical-align: top;\n",
       "    }\n",
       "\n",
       "    .dataframe thead th {\n",
       "        text-align: right;\n",
       "    }\n",
       "</style>\n",
       "<table border=\"1\" class=\"dataframe\">\n",
       "  <thead>\n",
       "    <tr style=\"text-align: right;\">\n",
       "      <th></th>\n",
       "      <th>forsterite</th>\n",
       "      <th>fayalite</th>\n",
       "    </tr>\n",
       "  </thead>\n",
       "  <tbody>\n",
       "    <tr>\n",
       "      <th>0</th>\n",
       "      <td>79.995</td>\n",
       "      <td>20.005</td>\n",
       "    </tr>\n",
       "    <tr>\n",
       "      <th>1</th>\n",
       "      <td>79.995</td>\n",
       "      <td>20.005</td>\n",
       "    </tr>\n",
       "  </tbody>\n",
       "</table>\n",
       "</div>"
      ],
      "text/plain": [
       "   forsterite  fayalite\n",
       "0      79.995    20.005\n",
       "1      79.995    20.005"
      ]
     },
     "execution_count": 14,
     "metadata": {},
     "output_type": "execute_result"
    }
   ],
   "source": [
    "ed = endmember_decompose(\n",
    "    df, endmembers=[\"forsterite\", \"fayalite\"], ord=1, molecular=True\n",
    ")\n",
    "ed"
   ]
  },
  {
   "cell_type": "markdown",
   "metadata": {},
   "source": [
    "We can check this by recombining the components with these proportions. We can first\n",
    "lookup the compositions for our endmembers:\n",
    "\n",
    "\n"
   ]
  },
  {
   "cell_type": "code",
   "execution_count": 15,
   "metadata": {
    "collapsed": false,
    "jupyter": {
     "outputs_hidden": false
    }
   },
   "outputs": [
    {
     "data": {
      "text/html": [
       "<div>\n",
       "<style scoped>\n",
       "    .dataframe tbody tr th:only-of-type {\n",
       "        vertical-align: middle;\n",
       "    }\n",
       "\n",
       "    .dataframe tbody tr th {\n",
       "        vertical-align: top;\n",
       "    }\n",
       "\n",
       "    .dataframe thead th {\n",
       "        text-align: right;\n",
       "    }\n",
       "</style>\n",
       "<table border=\"1\" class=\"dataframe\">\n",
       "  <thead>\n",
       "    <tr style=\"text-align: right;\">\n",
       "      <th></th>\n",
       "      <th>name</th>\n",
       "      <th>group</th>\n",
       "      <th>formula</th>\n",
       "      <th>Mg</th>\n",
       "      <th>Si</th>\n",
       "      <th>O</th>\n",
       "      <th>Fe</th>\n",
       "      <th>Mn</th>\n",
       "      <th>Ni</th>\n",
       "      <th>Ca</th>\n",
       "      <th>...</th>\n",
       "      <th>Na</th>\n",
       "      <th>Mn{3+}</th>\n",
       "      <th>Cr</th>\n",
       "      <th>Li</th>\n",
       "      <th>Cr{3+}</th>\n",
       "      <th>Fe{2+}</th>\n",
       "      <th>K</th>\n",
       "      <th>H</th>\n",
       "      <th>Ti</th>\n",
       "      <th>Ce{3+}</th>\n",
       "    </tr>\n",
       "  </thead>\n",
       "  <tbody>\n",
       "    <tr>\n",
       "      <th>0</th>\n",
       "      <td>forsterite</td>\n",
       "      <td>olivine</td>\n",
       "      <td>Mg2SiO4</td>\n",
       "      <td>0.346</td>\n",
       "      <td>0.200</td>\n",
       "      <td>0.455</td>\n",
       "      <td>0.000</td>\n",
       "      <td>0.0</td>\n",
       "      <td>0.0</td>\n",
       "      <td>0.0</td>\n",
       "      <td>...</td>\n",
       "      <td>0.0</td>\n",
       "      <td>0.0</td>\n",
       "      <td>0.0</td>\n",
       "      <td>0.0</td>\n",
       "      <td>0.0</td>\n",
       "      <td>0.0</td>\n",
       "      <td>0.0</td>\n",
       "      <td>0.0</td>\n",
       "      <td>0.0</td>\n",
       "      <td>0.0</td>\n",
       "    </tr>\n",
       "    <tr>\n",
       "      <th>1</th>\n",
       "      <td>fayalite</td>\n",
       "      <td>olivine</td>\n",
       "      <td>Fe2SiO4</td>\n",
       "      <td>0.000</td>\n",
       "      <td>0.138</td>\n",
       "      <td>0.314</td>\n",
       "      <td>0.548</td>\n",
       "      <td>0.0</td>\n",
       "      <td>0.0</td>\n",
       "      <td>0.0</td>\n",
       "      <td>...</td>\n",
       "      <td>0.0</td>\n",
       "      <td>0.0</td>\n",
       "      <td>0.0</td>\n",
       "      <td>0.0</td>\n",
       "      <td>0.0</td>\n",
       "      <td>0.0</td>\n",
       "      <td>0.0</td>\n",
       "      <td>0.0</td>\n",
       "      <td>0.0</td>\n",
       "      <td>0.0</td>\n",
       "    </tr>\n",
       "  </tbody>\n",
       "</table>\n",
       "<p>2 rows × 22 columns</p>\n",
       "</div>"
      ],
      "text/plain": [
       "         name    group  formula     Mg     Si      O     Fe   Mn   Ni   Ca  \\\n",
       "0  forsterite  olivine  Mg2SiO4  0.346  0.200  0.455  0.000  0.0  0.0  0.0   \n",
       "1    fayalite  olivine  Fe2SiO4  0.000  0.138  0.314  0.548  0.0  0.0  0.0   \n",
       "\n",
       "   ...   Na  Mn{3+}   Cr   Li  Cr{3+}  Fe{2+}    K    H   Ti  Ce{3+}  \n",
       "0  ...  0.0     0.0  0.0  0.0     0.0     0.0  0.0  0.0  0.0     0.0  \n",
       "1  ...  0.0     0.0  0.0  0.0     0.0     0.0  0.0  0.0  0.0     0.0  \n",
       "\n",
       "[2 rows x 22 columns]"
      ]
     },
     "execution_count": 15,
     "metadata": {},
     "output_type": "execute_result"
    }
   ],
   "source": [
    "em = pd.DataFrame([get_mineral(\"forsterite\"), get_mineral(\"fayalite\")])  # build a dataframe of our endmembers\n",
    "em"
   ]
  },
  {
   "cell_type": "code",
   "execution_count": 16,
   "metadata": {},
   "outputs": [
    {
     "data": {
      "text/html": [
       "<div>\n",
       "<style scoped>\n",
       "    .dataframe tbody tr th:only-of-type {\n",
       "        vertical-align: middle;\n",
       "    }\n",
       "\n",
       "    .dataframe tbody tr th {\n",
       "        vertical-align: top;\n",
       "    }\n",
       "\n",
       "    .dataframe thead th {\n",
       "        text-align: right;\n",
       "    }\n",
       "</style>\n",
       "<table border=\"1\" class=\"dataframe\">\n",
       "  <thead>\n",
       "    <tr style=\"text-align: right;\">\n",
       "      <th></th>\n",
       "      <th>name</th>\n",
       "      <th>group</th>\n",
       "      <th>formula</th>\n",
       "      <th>Mg</th>\n",
       "      <th>Si</th>\n",
       "      <th>O</th>\n",
       "      <th>Fe</th>\n",
       "    </tr>\n",
       "  </thead>\n",
       "  <tbody>\n",
       "    <tr>\n",
       "      <th>0</th>\n",
       "      <td>forsterite</td>\n",
       "      <td>olivine</td>\n",
       "      <td>Mg2SiO4</td>\n",
       "      <td>0.346</td>\n",
       "      <td>0.200</td>\n",
       "      <td>0.455</td>\n",
       "      <td>0.000</td>\n",
       "    </tr>\n",
       "    <tr>\n",
       "      <th>1</th>\n",
       "      <td>fayalite</td>\n",
       "      <td>olivine</td>\n",
       "      <td>Fe2SiO4</td>\n",
       "      <td>0.000</td>\n",
       "      <td>0.138</td>\n",
       "      <td>0.314</td>\n",
       "      <td>0.548</td>\n",
       "    </tr>\n",
       "  </tbody>\n",
       "</table>\n",
       "</div>"
      ],
      "text/plain": [
       "         name    group  formula     Mg     Si      O     Fe\n",
       "0  forsterite  olivine  Mg2SiO4  0.346  0.200  0.455  0.000\n",
       "1    fayalite  olivine  Fe2SiO4  0.000  0.138  0.314  0.548"
      ]
     },
     "execution_count": 16,
     "metadata": {},
     "output_type": "execute_result"
    }
   ],
   "source": [
    "em.loc[:, ~(em == 0).all(axis=0)]  # get the columns where all the values are not zero"
   ]
  },
  {
   "cell_type": "markdown",
   "metadata": {},
   "source": [
    "First we have to convert these element-based compositions to the oxide-based compositions we started with (or alternatively, we could go the other way around):"
   ]
  },
  {
   "cell_type": "code",
   "execution_count": 17,
   "metadata": {
    "collapsed": false,
    "jupyter": {
     "outputs_hidden": false
    }
   },
   "outputs": [
    {
     "data": {
      "text/html": [
       "<div>\n",
       "<style scoped>\n",
       "    .dataframe tbody tr th:only-of-type {\n",
       "        vertical-align: middle;\n",
       "    }\n",
       "\n",
       "    .dataframe tbody tr th {\n",
       "        vertical-align: top;\n",
       "    }\n",
       "\n",
       "    .dataframe thead th {\n",
       "        text-align: right;\n",
       "    }\n",
       "</style>\n",
       "<table border=\"1\" class=\"dataframe\">\n",
       "  <thead>\n",
       "    <tr style=\"text-align: right;\">\n",
       "      <th></th>\n",
       "      <th>MgO</th>\n",
       "      <th>SiO2</th>\n",
       "      <th>FeO</th>\n",
       "    </tr>\n",
       "  </thead>\n",
       "  <tbody>\n",
       "    <tr>\n",
       "      <th>0</th>\n",
       "      <td>0.667</td>\n",
       "      <td>0.333</td>\n",
       "      <td>0.000</td>\n",
       "    </tr>\n",
       "    <tr>\n",
       "      <th>1</th>\n",
       "      <td>0.000</td>\n",
       "      <td>0.333</td>\n",
       "      <td>0.667</td>\n",
       "    </tr>\n",
       "  </tbody>\n",
       "</table>\n",
       "</div>"
      ],
      "text/plain": [
       "     MgO   SiO2    FeO\n",
       "0  0.667  0.333  0.000\n",
       "1  0.000  0.333  0.667"
      ]
     },
     "execution_count": 17,
     "metadata": {},
     "output_type": "execute_result"
    }
   ],
   "source": [
    "emvalues = (\n",
    "    em.loc[:, [\"Mg\", \"Si\", \"Fe\"]]\n",
    "    .pyrochem.to_molecular()\n",
    "    .fillna(0)\n",
    "    .pyrochem.convert_chemistry(to=[\"MgO\", \"SiO2\", \"FeO\"], molecular=True)\n",
    "    .fillna(0)\n",
    "    .pyrocomp.renormalise(scale=1)\n",
    ")\n",
    "emvalues"
   ]
  },
  {
   "cell_type": "markdown",
   "metadata": {},
   "source": [
    "These can now be used with our endmember proportions to regenerate a composition, noting that these are molecular - we'll need to convert them to Wt%:\n"
   ]
  },
  {
   "cell_type": "code",
   "execution_count": 18,
   "metadata": {
    "collapsed": false,
    "jupyter": {
     "outputs_hidden": false
    }
   },
   "outputs": [
    {
     "data": {
      "text/html": [
       "<div>\n",
       "<style scoped>\n",
       "    .dataframe tbody tr th:only-of-type {\n",
       "        vertical-align: middle;\n",
       "    }\n",
       "\n",
       "    .dataframe tbody tr th {\n",
       "        vertical-align: top;\n",
       "    }\n",
       "\n",
       "    .dataframe thead th {\n",
       "        text-align: right;\n",
       "    }\n",
       "</style>\n",
       "<table border=\"1\" class=\"dataframe\">\n",
       "  <thead>\n",
       "    <tr style=\"text-align: right;\">\n",
       "      <th></th>\n",
       "      <th>MgO</th>\n",
       "      <th>SiO2</th>\n",
       "      <th>FeO</th>\n",
       "    </tr>\n",
       "  </thead>\n",
       "  <tbody>\n",
       "    <tr>\n",
       "      <th>0</th>\n",
       "      <td>42.06</td>\n",
       "      <td>39.191</td>\n",
       "      <td>18.75</td>\n",
       "    </tr>\n",
       "    <tr>\n",
       "      <th>1</th>\n",
       "      <td>42.06</td>\n",
       "      <td>39.191</td>\n",
       "      <td>18.75</td>\n",
       "    </tr>\n",
       "  </tbody>\n",
       "</table>\n",
       "</div>"
      ],
      "text/plain": [
       "     MgO    SiO2    FeO\n",
       "0  42.06  39.191  18.75\n",
       "1  42.06  39.191  18.75"
      ]
     },
     "execution_count": 18,
     "metadata": {},
     "output_type": "execute_result"
    }
   ],
   "source": [
    "recombined = pd.DataFrame(ed.values @ emvalues).pyrochem.to_weight() # multiply the endmember proportions by the endmember compositions to get a weighted composition in wt%\n",
    "recombined"
   ]
  },
  {
   "cell_type": "markdown",
   "metadata": {},
   "source": [
    "To make sure these compositions are within 0.01 percent:\n",
    "\n",
    "\n"
   ]
  },
  {
   "cell_type": "code",
   "execution_count": 19,
   "metadata": {
    "collapsed": false,
    "jupyter": {
     "outputs_hidden": false
    }
   },
   "outputs": [],
   "source": [
    "assert np.allclose(recombined.values, comp.values, rtol=10 ** -4)"
   ]
  },
  {
   "cell_type": "markdown",
   "metadata": {},
   "source": [
    "| [**Overview**](./00_overview.ipynb) | [Getting Started](./01_jupyter_python.ipynb) | **Examples:** | [Access](./02_accessing_indexing.ipynb) | [Transform](./03_transform.ipynb) | [Plotting](./04_simple_vis.ipynb) | [Norm-Spiders](./05_norm_spiders.ipynb) | [Minerals](./06_minerals.ipynb) | [lambdas](./07_lambdas.ipynb) |\n",
    "| ----------------------------------- | -------------------------------------------- | ------------- | --------------------------------------- | --------------------------------- | --------------------------------- | --------------------------------------- | ------------------------------- | ----------------------------- |"
   ]
  }
 ],
 "metadata": {
  "kernelspec": {
   "display_name": "pyrolite",
   "language": "python",
   "name": "pyrolite"
  },
  "language_info": {
   "codemirror_mode": {
    "name": "ipython",
    "version": 3
   },
   "file_extension": ".py",
   "mimetype": "text/x-python",
   "name": "python",
   "nbconvert_exporter": "python",
   "pygments_lexer": "ipython3",
   "version": "3.7.10"
  }
 },
 "nbformat": 4,
 "nbformat_minor": 4
}
