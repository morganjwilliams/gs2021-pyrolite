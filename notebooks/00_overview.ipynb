{
 "cells": [
  {
   "cell_type": "markdown",
   "metadata": {},
   "source": [
    "| [**Overview**](./00_overview.ipynb) | [Getting Started](./01_jupyter_python.ipynb) | **Examples:** | [Access](./02_accessing_indexing.ipynb) | [Transform](./03_transform.ipynb) | [Plotting](./04_simple_vis.ipynb) | [Norm-Spiders](./05_norm_spiders.ipynb) | [Minerals](./06_minerals.ipynb) | [lambdas](./07_lambdas.ipynb) |\n",
    "| ----------------------------------- | -------------------------------------------- | ------------- | --------------------------------------- | --------------------------------- | --------------------------------- | --------------------------------------- | ------------------------------- | ----------------------------- |\n",
    "\n",
    "# pyrolite: Overview and Demonstration\n",
    "\n",
    "<img src=\"https://pyrolite.readthedocs.io/en/master/_static/icon.png\" style=\"display:inline; float: right; margin: 0px 15px 15px 0px;\" width=\"20%\"/>\n",
    "\n",
    "This repository contains a notebook which provides a basic introduction to Python, Jupyter notebooks and core scientific Python libraries and together with a few which demonstrate some core features of `pyrolite`- you can access these using the links below (or the header above to quickly swtich between them).  If you've made your way here via Binder, you're now able to edit and interactively run the examples live here in your browser (thanks to the various organisations supporting the [Binder Project](mybinder.org/)). If not, you can navigate back to the [README](../README.md) and launch Binder from there. \n",
    "\n",
    "---\n",
    "\n",
    "## Overview & Introduction to pyrolite \n",
    "\n",
    "`pyrolite` is a set of tools for working with geochemical data written in Python. It aims to help geoscientists quickly get of the ground and make use of their data. It contains a variety of functionality for the processing, transformation and visualisation of geochemical data. \n",
    "\n",
    "\n",
    "---\n",
    "\n",
    "## Introduction to Python, Jupyter notebooks, `pandas` & `maptlotlib`\n",
    "\n",
    "1. [Jupyter Notebooks and Python](./01_jupyter_python.ipynb)\n",
    "\n",
    "### New to Jupyter?\n",
    "\n",
    "If you're new to Jupyter, the main thing you'll need to know for this set of notebooks is that you can use Shift+Enter to execute cells of code (or press the 'play' button). This notebook should have launched in Jupyter Lab if you've come via the poster or binder link; this is an interface which provides a file browser to your left, a main workspace (if you're reading this, the space occupied by this notebook) and organises separate open notebooks in tabs (see above this cell). If you'd like a more detailed overview of the Jupyter interface, you can check out [the respective documentation](https://jupyterlab.readthedocs.io/en/stable/user/interface.html).\n",
    "\n",
    "---\n",
    "\n",
    "## pyrolite Demonstration Examples\n",
    "\n",
    "2. [Accessing Geochemical Data](./02_accessing_indexing.ipynb)\n",
    "3. [Transforming Geochemical Data](./03_transform.ipynb) \n",
    "4. [Simple Visualisation - Ternary Plots & Density Plots](./04_simple_vis.ipynb)\n",
    "5. [Reference Compositions, Normalisation and Spider Plots](./05_norm_spiders.ipynb) \n",
    "6. [Mineral Database and Calculations](./06_minerals.ipynb) \n",
    "7. [Calculating lambdas](./07_lambdas.ipynb) \n",
    " \n",
    "---\n",
    "\n",
    "For more information on `pyrolite`, visit the [documentation page](https://pyrolite.rtfd.io/en/develop/), where there is [a gallery of examples](https://pyrolite.readthedocs.io/en/develop/examples/index.html). Note that the content for this workshop exclusively works v0.3.0, which is accessible via PyPI (i.e. using `pip`) or on GitHub [from GitHub](https://github.com/morganjwilliams/pyrolite/tree/0.3.0). If you want to check out some of my other open software projects, most are listed on [my GitHub profile](https://github.com/morganjwilliams). Feel free to get in touch via Gitter (for anything `pyrolite` related), via [Twitter](https://twitter.com/metasomite) or send an email to `morgan.williams` _at_ `csiro.au`."
   ]
  },
  {
   "cell_type": "markdown",
   "metadata": {},
   "source": [
    "| [**Overview**](./00_overview.ipynb) | [Getting Started](./01_jupyter_python.ipynb) | **Examples:** | [Access](./02_accessing_indexing.ipynb) | [Transform](./03_transform.ipynb) | [Plotting](./04_simple_vis.ipynb) | [Norm-Spiders](./05_norm_spiders.ipynb) | [Minerals](./06_minerals.ipynb) | [lambdas](./07_lambdas.ipynb) |\n",
    "| ----------------------------------- | -------------------------------------------- | ------------- | --------------------------------------- | --------------------------------- | --------------------------------- | --------------------------------------- | ------------------------------- | ----------------------------- |"
   ]
  }
 ],
 "metadata": {
  "kernelspec": {
   "display_name": "pyrolite",
   "language": "python",
   "name": "pyrolite"
  },
  "language_info": {
   "codemirror_mode": {
    "name": "ipython",
    "version": 3
   },
   "file_extension": ".py",
   "mimetype": "text/x-python",
   "name": "python",
   "nbconvert_exporter": "python",
   "pygments_lexer": "ipython3",
   "version": "3.7.10"
  }
 },
 "nbformat": 4,
 "nbformat_minor": 4
}
