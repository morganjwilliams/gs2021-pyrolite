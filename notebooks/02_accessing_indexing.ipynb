{
 "cells": [
  {
   "cell_type": "markdown",
   "metadata": {},
   "source": [
    "| [**Overview**](./00_overview.ipynb) | [Getting Started](./01_jupyter_python.ipynb) | **Examples:** | [Access](./02_accessing_indexing.ipynb) | [Transform](./03_transform.ipynb) | [Plotting](./04_simple_vis.ipynb) | [Norm-Spiders](./05_norm_spiders.ipynb) | [Minerals](./06_minerals.ipynb) | [lambdas](./07_lambdas.ipynb) |\n",
    "| ----------------------------------- | -------------------------------------------- | ------------- | --------------------------------------- | --------------------------------- | --------------------------------- | --------------------------------------- | ------------------------------- | ----------------------------- |\n",
    "\n",
    "# Acccessing and Indexing Geochemical Data with pyrolite\n",
    "\n",
    "The `pyrolite.pyrochem` API provides access to indexing and transformation functions. This allows easy subsetting of geochemical datasets which can otherwise be unweildly (expecially as the number of columns increases..). To provide a simple illustration we generate a synthetic dataset to work from, which contains an array of typical geochemical measures - oxide components, element components (here as ppm), element ratios and isotope ratios. While this size dataset is managable, some of the indexing tools pyrolite provides make it straightforward to pull out different parts of the dataset.\n",
    "\n",
    "A key thing to note here is that `pyrolite` provides a range of built-in functionality around known elements, oxides and isotope ratios. Typically, this means that having column names which are names of elements, oxide components or isotope ratios in the form $^{xx}A/^{xy}B$. This means you'll need to keep track of units etc yourself - which is where comments can be useful. This aspect may change in the future, with some ability to deal with units, non-standard column names and potentially even molecular ions (e.g. for hydrogeochemistry).\n",
    "\n",
    "First let's create some data to play with:"
   ]
  },
  {
   "cell_type": "code",
   "execution_count": 1,
   "metadata": {
    "collapsed": false,
    "jupyter": {
     "outputs_hidden": false
    }
   },
   "outputs": [
    {
     "data": {
      "text/html": [
       "<div>\n",
       "<style scoped>\n",
       "    .dataframe tbody tr th:only-of-type {\n",
       "        vertical-align: middle;\n",
       "    }\n",
       "\n",
       "    .dataframe tbody tr th {\n",
       "        vertical-align: top;\n",
       "    }\n",
       "\n",
       "    .dataframe thead th {\n",
       "        text-align: right;\n",
       "    }\n",
       "</style>\n",
       "<table border=\"1\" class=\"dataframe\">\n",
       "  <thead>\n",
       "    <tr style=\"text-align: right;\">\n",
       "      <th></th>\n",
       "      <th>CaO</th>\n",
       "      <th>MgO</th>\n",
       "      <th>SiO2</th>\n",
       "      <th>FeO</th>\n",
       "      <th>Na2O</th>\n",
       "      <th>Ni</th>\n",
       "      <th>Ti</th>\n",
       "      <th>La</th>\n",
       "      <th>Lu</th>\n",
       "      <th>Te</th>\n",
       "      <th>Y</th>\n",
       "      <th>Sr87/Sr86</th>\n",
       "    </tr>\n",
       "  </thead>\n",
       "  <tbody>\n",
       "    <tr>\n",
       "      <th>0</th>\n",
       "      <td>8.451</td>\n",
       "      <td>25.527</td>\n",
       "      <td>15.105</td>\n",
       "      <td>4.968</td>\n",
       "      <td>10.545</td>\n",
       "      <td>64.603</td>\n",
       "      <td>25.975</td>\n",
       "      <td>117.380</td>\n",
       "      <td>23.073</td>\n",
       "      <td>14.078</td>\n",
       "      <td>108.926</td>\n",
       "      <td>0.71</td>\n",
       "    </tr>\n",
       "    <tr>\n",
       "      <th>1</th>\n",
       "      <td>8.670</td>\n",
       "      <td>25.345</td>\n",
       "      <td>15.091</td>\n",
       "      <td>5.233</td>\n",
       "      <td>10.658</td>\n",
       "      <td>60.026</td>\n",
       "      <td>23.958</td>\n",
       "      <td>114.765</td>\n",
       "      <td>23.064</td>\n",
       "      <td>16.277</td>\n",
       "      <td>111.936</td>\n",
       "      <td>0.71</td>\n",
       "    </tr>\n",
       "    <tr>\n",
       "      <th>2</th>\n",
       "      <td>8.309</td>\n",
       "      <td>26.174</td>\n",
       "      <td>15.181</td>\n",
       "      <td>4.653</td>\n",
       "      <td>10.246</td>\n",
       "      <td>63.165</td>\n",
       "      <td>27.252</td>\n",
       "      <td>117.867</td>\n",
       "      <td>23.043</td>\n",
       "      <td>15.280</td>\n",
       "      <td>107.755</td>\n",
       "      <td>0.71</td>\n",
       "    </tr>\n",
       "    <tr>\n",
       "      <th>3</th>\n",
       "      <td>8.197</td>\n",
       "      <td>26.415</td>\n",
       "      <td>14.968</td>\n",
       "      <td>4.953</td>\n",
       "      <td>10.430</td>\n",
       "      <td>65.751</td>\n",
       "      <td>27.531</td>\n",
       "      <td>119.907</td>\n",
       "      <td>22.845</td>\n",
       "      <td>13.905</td>\n",
       "      <td>100.435</td>\n",
       "      <td>0.71</td>\n",
       "    </tr>\n",
       "    <tr>\n",
       "      <th>4</th>\n",
       "      <td>8.634</td>\n",
       "      <td>26.129</td>\n",
       "      <td>15.299</td>\n",
       "      <td>4.435</td>\n",
       "      <td>10.271</td>\n",
       "      <td>65.219</td>\n",
       "      <td>27.316</td>\n",
       "      <td>120.711</td>\n",
       "      <td>21.867</td>\n",
       "      <td>13.932</td>\n",
       "      <td>103.278</td>\n",
       "      <td>0.71</td>\n",
       "    </tr>\n",
       "    <tr>\n",
       "      <th>5</th>\n",
       "      <td>7.573</td>\n",
       "      <td>27.604</td>\n",
       "      <td>14.990</td>\n",
       "      <td>4.952</td>\n",
       "      <td>10.695</td>\n",
       "      <td>63.611</td>\n",
       "      <td>22.269</td>\n",
       "      <td>110.065</td>\n",
       "      <td>23.533</td>\n",
       "      <td>13.433</td>\n",
       "      <td>108.961</td>\n",
       "      <td>0.71</td>\n",
       "    </tr>\n",
       "    <tr>\n",
       "      <th>6</th>\n",
       "      <td>8.581</td>\n",
       "      <td>26.943</td>\n",
       "      <td>15.252</td>\n",
       "      <td>4.192</td>\n",
       "      <td>10.185</td>\n",
       "      <td>63.911</td>\n",
       "      <td>25.051</td>\n",
       "      <td>122.504</td>\n",
       "      <td>23.336</td>\n",
       "      <td>13.656</td>\n",
       "      <td>100.011</td>\n",
       "      <td>0.71</td>\n",
       "    </tr>\n",
       "    <tr>\n",
       "      <th>7</th>\n",
       "      <td>8.792</td>\n",
       "      <td>25.960</td>\n",
       "      <td>15.407</td>\n",
       "      <td>4.826</td>\n",
       "      <td>10.439</td>\n",
       "      <td>60.616</td>\n",
       "      <td>25.130</td>\n",
       "      <td>114.376</td>\n",
       "      <td>22.287</td>\n",
       "      <td>16.674</td>\n",
       "      <td>106.676</td>\n",
       "      <td>0.71</td>\n",
       "    </tr>\n",
       "    <tr>\n",
       "      <th>8</th>\n",
       "      <td>8.481</td>\n",
       "      <td>26.239</td>\n",
       "      <td>15.233</td>\n",
       "      <td>4.975</td>\n",
       "      <td>10.546</td>\n",
       "      <td>62.020</td>\n",
       "      <td>26.442</td>\n",
       "      <td>116.792</td>\n",
       "      <td>22.260</td>\n",
       "      <td>15.104</td>\n",
       "      <td>102.632</td>\n",
       "      <td>0.71</td>\n",
       "    </tr>\n",
       "    <tr>\n",
       "      <th>9</th>\n",
       "      <td>8.259</td>\n",
       "      <td>24.690</td>\n",
       "      <td>14.811</td>\n",
       "      <td>5.343</td>\n",
       "      <td>10.543</td>\n",
       "      <td>67.919</td>\n",
       "      <td>28.058</td>\n",
       "      <td>122.302</td>\n",
       "      <td>23.699</td>\n",
       "      <td>12.823</td>\n",
       "      <td>108.737</td>\n",
       "      <td>0.71</td>\n",
       "    </tr>\n",
       "  </tbody>\n",
       "</table>\n",
       "</div>"
      ],
      "text/plain": [
       "     CaO     MgO    SiO2    FeO    Na2O      Ni      Ti       La      Lu  \\\n",
       "0  8.451  25.527  15.105  4.968  10.545  64.603  25.975  117.380  23.073   \n",
       "1  8.670  25.345  15.091  5.233  10.658  60.026  23.958  114.765  23.064   \n",
       "2  8.309  26.174  15.181  4.653  10.246  63.165  27.252  117.867  23.043   \n",
       "3  8.197  26.415  14.968  4.953  10.430  65.751  27.531  119.907  22.845   \n",
       "4  8.634  26.129  15.299  4.435  10.271  65.219  27.316  120.711  21.867   \n",
       "5  7.573  27.604  14.990  4.952  10.695  63.611  22.269  110.065  23.533   \n",
       "6  8.581  26.943  15.252  4.192  10.185  63.911  25.051  122.504  23.336   \n",
       "7  8.792  25.960  15.407  4.826  10.439  60.616  25.130  114.376  22.287   \n",
       "8  8.481  26.239  15.233  4.975  10.546  62.020  26.442  116.792  22.260   \n",
       "9  8.259  24.690  14.811  5.343  10.543  67.919  28.058  122.302  23.699   \n",
       "\n",
       "       Te        Y  Sr87/Sr86  \n",
       "0  14.078  108.926       0.71  \n",
       "1  16.277  111.936       0.71  \n",
       "2  15.280  107.755       0.71  \n",
       "3  13.905  100.435       0.71  \n",
       "4  13.932  103.278       0.71  \n",
       "5  13.433  108.961       0.71  \n",
       "6  13.656  100.011       0.71  \n",
       "7  16.674  106.676       0.71  \n",
       "8  15.104  102.632       0.71  \n",
       "9  12.823  108.737       0.71  "
      ]
     },
     "execution_count": 1,
     "metadata": {},
     "output_type": "execute_result"
    }
   ],
   "source": [
    "import pyrolite.geochem\n",
    "import pandas as pd\n",
    "import numpy as np\n",
    "from pyrolite.util.synthetic import normal_frame\n",
    "\n",
    "pd.set_option(\"precision\", 3)  # smaller graphical outputs\n",
    " \n",
    "df = normal_frame(columns=['CaO', 'MgO', 'SiO2', 'FeO','Na2O', 'Ni', 'Ti', 'La', 'Lu', 'Te', 'Y']) * 100 # create a dataframe which contains some oxides and elements, which sum to 100%\n",
    "df[['Ni', 'Ti', 'La', 'Lu', 'Te', 'Y']] *= 10 # simulate some ppm data in a fairly blunt way\n",
    "df['Sr87/Sr86'] = 0.0700  / 0.0986 + np.random.randn(df.index.size) * 0.0001 # simulate some Sr isotope data \n",
    "df"
   ]
  },
  {
   "cell_type": "markdown",
   "metadata": {},
   "source": [
    "To save a bit of space, below we'll use `df.head(2)` to restrict the output to just the top two rows:"
   ]
  },
  {
   "cell_type": "code",
   "execution_count": 2,
   "metadata": {},
   "outputs": [
    {
     "data": {
      "text/html": [
       "<div>\n",
       "<style scoped>\n",
       "    .dataframe tbody tr th:only-of-type {\n",
       "        vertical-align: middle;\n",
       "    }\n",
       "\n",
       "    .dataframe tbody tr th {\n",
       "        vertical-align: top;\n",
       "    }\n",
       "\n",
       "    .dataframe thead th {\n",
       "        text-align: right;\n",
       "    }\n",
       "</style>\n",
       "<table border=\"1\" class=\"dataframe\">\n",
       "  <thead>\n",
       "    <tr style=\"text-align: right;\">\n",
       "      <th></th>\n",
       "      <th>CaO</th>\n",
       "      <th>MgO</th>\n",
       "      <th>SiO2</th>\n",
       "      <th>FeO</th>\n",
       "      <th>Na2O</th>\n",
       "      <th>Ni</th>\n",
       "      <th>Ti</th>\n",
       "      <th>La</th>\n",
       "      <th>Lu</th>\n",
       "      <th>Te</th>\n",
       "      <th>Y</th>\n",
       "      <th>Sr87/Sr86</th>\n",
       "    </tr>\n",
       "  </thead>\n",
       "  <tbody>\n",
       "    <tr>\n",
       "      <th>0</th>\n",
       "      <td>8.451</td>\n",
       "      <td>25.527</td>\n",
       "      <td>15.105</td>\n",
       "      <td>4.968</td>\n",
       "      <td>10.545</td>\n",
       "      <td>64.603</td>\n",
       "      <td>25.975</td>\n",
       "      <td>117.380</td>\n",
       "      <td>23.073</td>\n",
       "      <td>14.078</td>\n",
       "      <td>108.926</td>\n",
       "      <td>0.71</td>\n",
       "    </tr>\n",
       "    <tr>\n",
       "      <th>1</th>\n",
       "      <td>8.670</td>\n",
       "      <td>25.345</td>\n",
       "      <td>15.091</td>\n",
       "      <td>5.233</td>\n",
       "      <td>10.658</td>\n",
       "      <td>60.026</td>\n",
       "      <td>23.958</td>\n",
       "      <td>114.765</td>\n",
       "      <td>23.064</td>\n",
       "      <td>16.277</td>\n",
       "      <td>111.936</td>\n",
       "      <td>0.71</td>\n",
       "    </tr>\n",
       "  </tbody>\n",
       "</table>\n",
       "</div>"
      ],
      "text/plain": [
       "     CaO     MgO    SiO2    FeO    Na2O      Ni      Ti       La      Lu  \\\n",
       "0  8.451  25.527  15.105  4.968  10.545  64.603  25.975  117.380  23.073   \n",
       "1  8.670  25.345  15.091  5.233  10.658  60.026  23.958  114.765  23.064   \n",
       "\n",
       "       Te        Y  Sr87/Sr86  \n",
       "0  14.078  108.926       0.71  \n",
       "1  16.277  111.936       0.71  "
      ]
     },
     "execution_count": 2,
     "metadata": {},
     "output_type": "execute_result"
    }
   ],
   "source": [
    "df.head(2)"
   ]
  },
  {
   "cell_type": "markdown",
   "metadata": {},
   "source": [
    "### Selecting Data\n",
    "\n",
    "To select a subset of columns from the dataframe, the `pyrolite.pyrochem` API has a few built-in selectors:"
   ]
  },
  {
   "cell_type": "code",
   "execution_count": 3,
   "metadata": {
    "collapsed": false,
    "jupyter": {
     "outputs_hidden": false
    }
   },
   "outputs": [
    {
     "data": {
      "text/html": [
       "<div>\n",
       "<style scoped>\n",
       "    .dataframe tbody tr th:only-of-type {\n",
       "        vertical-align: middle;\n",
       "    }\n",
       "\n",
       "    .dataframe tbody tr th {\n",
       "        vertical-align: top;\n",
       "    }\n",
       "\n",
       "    .dataframe thead th {\n",
       "        text-align: right;\n",
       "    }\n",
       "</style>\n",
       "<table border=\"1\" class=\"dataframe\">\n",
       "  <thead>\n",
       "    <tr style=\"text-align: right;\">\n",
       "      <th></th>\n",
       "      <th>CaO</th>\n",
       "      <th>MgO</th>\n",
       "      <th>SiO2</th>\n",
       "      <th>FeO</th>\n",
       "      <th>Na2O</th>\n",
       "    </tr>\n",
       "  </thead>\n",
       "  <tbody>\n",
       "    <tr>\n",
       "      <th>0</th>\n",
       "      <td>8.451</td>\n",
       "      <td>25.527</td>\n",
       "      <td>15.105</td>\n",
       "      <td>4.968</td>\n",
       "      <td>10.545</td>\n",
       "    </tr>\n",
       "    <tr>\n",
       "      <th>1</th>\n",
       "      <td>8.670</td>\n",
       "      <td>25.345</td>\n",
       "      <td>15.091</td>\n",
       "      <td>5.233</td>\n",
       "      <td>10.658</td>\n",
       "    </tr>\n",
       "  </tbody>\n",
       "</table>\n",
       "</div>"
      ],
      "text/plain": [
       "     CaO     MgO    SiO2    FeO    Na2O\n",
       "0  8.451  25.527  15.105  4.968  10.545\n",
       "1  8.670  25.345  15.091  5.233  10.658"
      ]
     },
     "execution_count": 3,
     "metadata": {},
     "output_type": "execute_result"
    }
   ],
   "source": [
    "df.head(2).pyrochem.oxides"
   ]
  },
  {
   "cell_type": "code",
   "execution_count": 4,
   "metadata": {
    "collapsed": false,
    "jupyter": {
     "outputs_hidden": false
    }
   },
   "outputs": [
    {
     "data": {
      "text/html": [
       "<div>\n",
       "<style scoped>\n",
       "    .dataframe tbody tr th:only-of-type {\n",
       "        vertical-align: middle;\n",
       "    }\n",
       "\n",
       "    .dataframe tbody tr th {\n",
       "        vertical-align: top;\n",
       "    }\n",
       "\n",
       "    .dataframe thead th {\n",
       "        text-align: right;\n",
       "    }\n",
       "</style>\n",
       "<table border=\"1\" class=\"dataframe\">\n",
       "  <thead>\n",
       "    <tr style=\"text-align: right;\">\n",
       "      <th></th>\n",
       "      <th>Ni</th>\n",
       "      <th>Ti</th>\n",
       "      <th>La</th>\n",
       "      <th>Lu</th>\n",
       "      <th>Te</th>\n",
       "      <th>Y</th>\n",
       "    </tr>\n",
       "  </thead>\n",
       "  <tbody>\n",
       "    <tr>\n",
       "      <th>0</th>\n",
       "      <td>64.603</td>\n",
       "      <td>25.975</td>\n",
       "      <td>117.380</td>\n",
       "      <td>23.073</td>\n",
       "      <td>14.078</td>\n",
       "      <td>108.926</td>\n",
       "    </tr>\n",
       "    <tr>\n",
       "      <th>1</th>\n",
       "      <td>60.026</td>\n",
       "      <td>23.958</td>\n",
       "      <td>114.765</td>\n",
       "      <td>23.064</td>\n",
       "      <td>16.277</td>\n",
       "      <td>111.936</td>\n",
       "    </tr>\n",
       "  </tbody>\n",
       "</table>\n",
       "</div>"
      ],
      "text/plain": [
       "       Ni      Ti       La      Lu      Te        Y\n",
       "0  64.603  25.975  117.380  23.073  14.078  108.926\n",
       "1  60.026  23.958  114.765  23.064  16.277  111.936"
      ]
     },
     "execution_count": 4,
     "metadata": {},
     "output_type": "execute_result"
    }
   ],
   "source": [
    "df.head(2).pyrochem.elements"
   ]
  },
  {
   "cell_type": "code",
   "execution_count": 5,
   "metadata": {
    "collapsed": false,
    "jupyter": {
     "outputs_hidden": false
    }
   },
   "outputs": [
    {
     "data": {
      "text/html": [
       "<div>\n",
       "<style scoped>\n",
       "    .dataframe tbody tr th:only-of-type {\n",
       "        vertical-align: middle;\n",
       "    }\n",
       "\n",
       "    .dataframe tbody tr th {\n",
       "        vertical-align: top;\n",
       "    }\n",
       "\n",
       "    .dataframe thead th {\n",
       "        text-align: right;\n",
       "    }\n",
       "</style>\n",
       "<table border=\"1\" class=\"dataframe\">\n",
       "  <thead>\n",
       "    <tr style=\"text-align: right;\">\n",
       "      <th></th>\n",
       "      <th>La</th>\n",
       "      <th>Lu</th>\n",
       "    </tr>\n",
       "  </thead>\n",
       "  <tbody>\n",
       "    <tr>\n",
       "      <th>0</th>\n",
       "      <td>117.380</td>\n",
       "      <td>23.073</td>\n",
       "    </tr>\n",
       "    <tr>\n",
       "      <th>1</th>\n",
       "      <td>114.765</td>\n",
       "      <td>23.064</td>\n",
       "    </tr>\n",
       "  </tbody>\n",
       "</table>\n",
       "</div>"
      ],
      "text/plain": [
       "        La      Lu\n",
       "0  117.380  23.073\n",
       "1  114.765  23.064"
      ]
     },
     "execution_count": 5,
     "metadata": {},
     "output_type": "execute_result"
    }
   ],
   "source": [
    "df.head(2).pyrochem.REE"
   ]
  },
  {
   "cell_type": "code",
   "execution_count": 6,
   "metadata": {
    "collapsed": false,
    "jupyter": {
     "outputs_hidden": false
    }
   },
   "outputs": [
    {
     "data": {
      "text/html": [
       "<div>\n",
       "<style scoped>\n",
       "    .dataframe tbody tr th:only-of-type {\n",
       "        vertical-align: middle;\n",
       "    }\n",
       "\n",
       "    .dataframe tbody tr th {\n",
       "        vertical-align: top;\n",
       "    }\n",
       "\n",
       "    .dataframe thead th {\n",
       "        text-align: right;\n",
       "    }\n",
       "</style>\n",
       "<table border=\"1\" class=\"dataframe\">\n",
       "  <thead>\n",
       "    <tr style=\"text-align: right;\">\n",
       "      <th></th>\n",
       "      <th>La</th>\n",
       "      <th>Y</th>\n",
       "      <th>Lu</th>\n",
       "    </tr>\n",
       "  </thead>\n",
       "  <tbody>\n",
       "    <tr>\n",
       "      <th>0</th>\n",
       "      <td>117.380</td>\n",
       "      <td>108.926</td>\n",
       "      <td>23.073</td>\n",
       "    </tr>\n",
       "    <tr>\n",
       "      <th>1</th>\n",
       "      <td>114.765</td>\n",
       "      <td>111.936</td>\n",
       "      <td>23.064</td>\n",
       "    </tr>\n",
       "  </tbody>\n",
       "</table>\n",
       "</div>"
      ],
      "text/plain": [
       "        La        Y      Lu\n",
       "0  117.380  108.926  23.073\n",
       "1  114.765  111.936  23.064"
      ]
     },
     "execution_count": 6,
     "metadata": {},
     "output_type": "execute_result"
    }
   ],
   "source": [
    "df.head(2).pyrochem.REY"
   ]
  },
  {
   "cell_type": "code",
   "execution_count": 7,
   "metadata": {
    "collapsed": false,
    "jupyter": {
     "outputs_hidden": false
    }
   },
   "outputs": [
    {
     "data": {
      "text/html": [
       "<div>\n",
       "<style scoped>\n",
       "    .dataframe tbody tr th:only-of-type {\n",
       "        vertical-align: middle;\n",
       "    }\n",
       "\n",
       "    .dataframe tbody tr th {\n",
       "        vertical-align: top;\n",
       "    }\n",
       "\n",
       "    .dataframe thead th {\n",
       "        text-align: right;\n",
       "    }\n",
       "</style>\n",
       "<table border=\"1\" class=\"dataframe\">\n",
       "  <thead>\n",
       "    <tr style=\"text-align: right;\">\n",
       "      <th></th>\n",
       "      <th>CaO</th>\n",
       "      <th>MgO</th>\n",
       "      <th>SiO2</th>\n",
       "      <th>FeO</th>\n",
       "      <th>Na2O</th>\n",
       "      <th>Ni</th>\n",
       "      <th>Ti</th>\n",
       "      <th>La</th>\n",
       "      <th>Lu</th>\n",
       "      <th>Te</th>\n",
       "      <th>Y</th>\n",
       "    </tr>\n",
       "  </thead>\n",
       "  <tbody>\n",
       "    <tr>\n",
       "      <th>0</th>\n",
       "      <td>8.451</td>\n",
       "      <td>25.527</td>\n",
       "      <td>15.105</td>\n",
       "      <td>4.968</td>\n",
       "      <td>10.545</td>\n",
       "      <td>64.603</td>\n",
       "      <td>25.975</td>\n",
       "      <td>117.380</td>\n",
       "      <td>23.073</td>\n",
       "      <td>14.078</td>\n",
       "      <td>108.926</td>\n",
       "    </tr>\n",
       "    <tr>\n",
       "      <th>1</th>\n",
       "      <td>8.670</td>\n",
       "      <td>25.345</td>\n",
       "      <td>15.091</td>\n",
       "      <td>5.233</td>\n",
       "      <td>10.658</td>\n",
       "      <td>60.026</td>\n",
       "      <td>23.958</td>\n",
       "      <td>114.765</td>\n",
       "      <td>23.064</td>\n",
       "      <td>16.277</td>\n",
       "      <td>111.936</td>\n",
       "    </tr>\n",
       "  </tbody>\n",
       "</table>\n",
       "</div>"
      ],
      "text/plain": [
       "     CaO     MgO    SiO2    FeO    Na2O      Ni      Ti       La      Lu  \\\n",
       "0  8.451  25.527  15.105  4.968  10.545  64.603  25.975  117.380  23.073   \n",
       "1  8.670  25.345  15.091  5.233  10.658  60.026  23.958  114.765  23.064   \n",
       "\n",
       "       Te        Y  \n",
       "0  14.078  108.926  \n",
       "1  16.277  111.936  "
      ]
     },
     "execution_count": 7,
     "metadata": {},
     "output_type": "execute_result"
    }
   ],
   "source": [
    "df.head(2).pyrochem.compositional"
   ]
  },
  {
   "cell_type": "code",
   "execution_count": 8,
   "metadata": {
    "collapsed": false,
    "jupyter": {
     "outputs_hidden": false
    }
   },
   "outputs": [
    {
     "data": {
      "text/html": [
       "<div>\n",
       "<style scoped>\n",
       "    .dataframe tbody tr th:only-of-type {\n",
       "        vertical-align: middle;\n",
       "    }\n",
       "\n",
       "    .dataframe tbody tr th {\n",
       "        vertical-align: top;\n",
       "    }\n",
       "\n",
       "    .dataframe thead th {\n",
       "        text-align: right;\n",
       "    }\n",
       "</style>\n",
       "<table border=\"1\" class=\"dataframe\">\n",
       "  <thead>\n",
       "    <tr style=\"text-align: right;\">\n",
       "      <th></th>\n",
       "      <th>Sr87/Sr86</th>\n",
       "    </tr>\n",
       "  </thead>\n",
       "  <tbody>\n",
       "    <tr>\n",
       "      <th>0</th>\n",
       "      <td>0.71</td>\n",
       "    </tr>\n",
       "    <tr>\n",
       "      <th>1</th>\n",
       "      <td>0.71</td>\n",
       "    </tr>\n",
       "  </tbody>\n",
       "</table>\n",
       "</div>"
      ],
      "text/plain": [
       "   Sr87/Sr86\n",
       "0       0.71\n",
       "1       0.71"
      ]
     },
     "execution_count": 8,
     "metadata": {},
     "output_type": "execute_result"
    }
   ],
   "source": [
    "df.head(2).pyrochem.isotope_ratios"
   ]
  },
  {
   "cell_type": "markdown",
   "metadata": {},
   "source": [
    "---\n",
    "These selectors can also be used to re-assign modified subsets back to the dataframe - useful if you wanted to just process/scale/transform/standardise a subset of the data:"
   ]
  },
  {
   "cell_type": "code",
   "execution_count": 9,
   "metadata": {},
   "outputs": [],
   "source": [
    "df.pyrochem.isotope_ratios /= 0.7016"
   ]
  },
  {
   "cell_type": "code",
   "execution_count": 10,
   "metadata": {},
   "outputs": [
    {
     "data": {
      "text/html": [
       "<div>\n",
       "<style scoped>\n",
       "    .dataframe tbody tr th:only-of-type {\n",
       "        vertical-align: middle;\n",
       "    }\n",
       "\n",
       "    .dataframe tbody tr th {\n",
       "        vertical-align: top;\n",
       "    }\n",
       "\n",
       "    .dataframe thead th {\n",
       "        text-align: right;\n",
       "    }\n",
       "</style>\n",
       "<table border=\"1\" class=\"dataframe\">\n",
       "  <thead>\n",
       "    <tr style=\"text-align: right;\">\n",
       "      <th></th>\n",
       "      <th>Sr87/Sr86</th>\n",
       "    </tr>\n",
       "  </thead>\n",
       "  <tbody>\n",
       "    <tr>\n",
       "      <th>0</th>\n",
       "      <td>1.012</td>\n",
       "    </tr>\n",
       "    <tr>\n",
       "      <th>1</th>\n",
       "      <td>1.012</td>\n",
       "    </tr>\n",
       "  </tbody>\n",
       "</table>\n",
       "</div>"
      ],
      "text/plain": [
       "   Sr87/Sr86\n",
       "0      1.012\n",
       "1      1.012"
      ]
     },
     "execution_count": 10,
     "metadata": {},
     "output_type": "execute_result"
    }
   ],
   "source": [
    "df.head(2).pyrochem.isotope_ratios"
   ]
  },
  {
   "cell_type": "markdown",
   "metadata": {},
   "source": [
    "------\n",
    "### Listing Columns\n",
    "If you just want the column names, it's easy enough to get those too (these are actually used in the indexing above):"
   ]
  },
  {
   "cell_type": "code",
   "execution_count": 11,
   "metadata": {
    "collapsed": false,
    "jupyter": {
     "outputs_hidden": false
    }
   },
   "outputs": [
    {
     "data": {
      "text/plain": [
       "['CaO', 'MgO', 'SiO2', 'FeO', 'Na2O']"
      ]
     },
     "execution_count": 11,
     "metadata": {},
     "output_type": "execute_result"
    }
   ],
   "source": [
    "df.pyrochem.list_oxides"
   ]
  },
  {
   "cell_type": "code",
   "execution_count": 12,
   "metadata": {
    "collapsed": false,
    "jupyter": {
     "outputs_hidden": false
    }
   },
   "outputs": [
    {
     "data": {
      "text/plain": [
       "['Ni', 'Ti', 'La', 'Lu', 'Te', 'Y']"
      ]
     },
     "execution_count": 12,
     "metadata": {},
     "output_type": "execute_result"
    }
   ],
   "source": [
    "df.pyrochem.list_elements"
   ]
  },
  {
   "cell_type": "code",
   "execution_count": 13,
   "metadata": {
    "collapsed": false,
    "jupyter": {
     "outputs_hidden": false
    }
   },
   "outputs": [
    {
     "data": {
      "text/plain": [
       "['La', 'Lu']"
      ]
     },
     "execution_count": 13,
     "metadata": {},
     "output_type": "execute_result"
    }
   ],
   "source": [
    "df.pyrochem.list_REE"
   ]
  },
  {
   "cell_type": "code",
   "execution_count": 14,
   "metadata": {
    "collapsed": false,
    "jupyter": {
     "outputs_hidden": false
    }
   },
   "outputs": [
    {
     "data": {
      "text/plain": [
       "['CaO', 'MgO', 'SiO2', 'FeO', 'Na2O', 'Ni', 'Ti', 'La', 'Lu', 'Te', 'Y']"
      ]
     },
     "execution_count": 14,
     "metadata": {},
     "output_type": "execute_result"
    }
   ],
   "source": [
    "df.pyrochem.list_compositional"
   ]
  },
  {
   "cell_type": "code",
   "execution_count": 15,
   "metadata": {
    "collapsed": false,
    "jupyter": {
     "outputs_hidden": false
    }
   },
   "outputs": [
    {
     "data": {
      "text/plain": [
       "['Sr87/Sr86']"
      ]
     },
     "execution_count": 15,
     "metadata": {},
     "output_type": "execute_result"
    }
   ],
   "source": [
    "df.pyrochem.list_isotope_ratios"
   ]
  },
  {
   "cell_type": "markdown",
   "metadata": {},
   "source": [
    "----\n",
    "<div class='alert alert-warning'> <font size=\"+1\" color=\"black\"><b> Checkpoint & Time Check</b><br>How are things going?</font></div>\n",
    "\n",
    "----"
   ]
  },
  {
   "cell_type": "markdown",
   "metadata": {},
   "source": [
    "| [**Overview**](./00_overview.ipynb) | [Getting Started](./01_jupyter_python.ipynb) | **Examples:** | [Access](./02_accessing_indexing.ipynb) | [Transform](./03_transform.ipynb) | [Plotting](./04_simple_vis.ipynb) | [Norm-Spiders](./05_norm_spiders.ipynb) | [Minerals](./06_minerals.ipynb) | [lambdas](./07_lambdas.ipynb) |\n",
    "| ----------------------------------- | -------------------------------------------- | ------------- | --------------------------------------- | --------------------------------- | --------------------------------- | --------------------------------------- | ------------------------------- | ----------------------------- |"
   ]
  }
 ],
 "metadata": {
  "kernelspec": {
   "display_name": "pyrolite",
   "language": "python",
   "name": "pyrolite"
  },
  "language_info": {
   "codemirror_mode": {
    "name": "ipython",
    "version": 3
   },
   "file_extension": ".py",
   "mimetype": "text/x-python",
   "name": "python",
   "nbconvert_exporter": "python",
   "pygments_lexer": "ipython3",
   "version": "3.7.10"
  }
 },
 "nbformat": 4,
 "nbformat_minor": 4
}
